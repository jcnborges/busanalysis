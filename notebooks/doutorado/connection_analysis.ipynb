{
 "cells": [
  {
   "cell_type": "code",
   "execution_count": 35,
   "id": "ab7ea046-8562-4b0b-9e35-ad29402cb758",
   "metadata": {},
   "outputs": [],
   "source": [
    "import os\n",
    "import glob\n",
    "import pandas as pd\n",
    "import numpy as np\n",
    "import seaborn as sns\n",
    "import matplotlib.pyplot as plt\n",
    "import matplotlib.colors as mcolors\n",
    "import matplotlib.cm as cm\n",
    "import folium\n",
    "import webbrowser as web\n",
    "import geopandas as gpd\n",
    "from folium import plugins"
   ]
  },
  {
   "cell_type": "code",
   "execution_count": 2,
   "id": "4a4c7f8e-50e7-4ac1-bdc4-d9feeca12892",
   "metadata": {},
   "outputs": [],
   "source": [
    "base_date_start = '2022-07-11'\n",
    "base_date_end = '2022-07-15'\n",
    "base_date = '2022-07-11'"
   ]
  },
  {
   "cell_type": "code",
   "execution_count": 3,
   "id": "17145d8d-94c8-4332-a82e-cd64a49c4caf",
   "metadata": {},
   "outputs": [],
   "source": [
    "dir = f\"{base_date_start}_to_{base_date_end}\""
   ]
  },
  {
   "cell_type": "code",
   "execution_count": 37,
   "id": "6262285a-eb5d-415d-bbb7-85bc00fbed49",
   "metadata": {},
   "outputs": [],
   "source": [
    "connections = [pd.read_parquet(f) for f in glob.glob(f\"{dir}//output//{base_date}*.parquet\")]\n",
    "connections = pd.concat(connections, ignore_index = True)\n",
    "connections['event_timestamp_u'] = pd.to_datetime(connections[\"event_timestamp_u\"])\n",
    "connections['event_timestamp_v'] = pd.to_datetime(connections[\"event_timestamp_v\"])\n",
    "connections['waiting_time'] = (connections.event_timestamp_v - connections.event_timestamp_u).astype('timedelta64[s]')\n",
    "connections['hour'] = connections['event_timestamp_u'].dt.hour\n",
    "connections.query('hour not in [0,1,2,3,4]', inplace = True)\n",
    "all_pairs = pd.read_parquet(f\"{dir}//all_pairs.parquet\")\n",
    "dim_bs = pd.read_parquet(f\"{dir}//dim_bs.parquet\")\n",
    "clusters = pd.read_parquet(f\"{dir}//clusters.parquet\")"
   ]
  },
  {
   "cell_type": "code",
   "execution_count": 5,
   "id": "56aaab8d-af89-44c9-9dae-469b78c001dc",
   "metadata": {},
   "outputs": [],
   "source": [
    "df_cluster = connections.merge(\n",
    "    all_pairs[['dummy_id_x', 'dummy_id_y', 'dist', 'cluster']].drop_duplicates(),\n",
    "    left_on = ['dummy_id_u', 'dummy_id_v'], \n",
    "    right_on = ['dummy_id_x', 'dummy_id_y'], \n",
    "    how = 'inner'\n",
    ").drop(\n",
    "    labels = ['dummy_id_x', 'dummy_id_y'],\n",
    "    axis = 1\n",
    ")"
   ]
  },
  {
   "cell_type": "code",
   "execution_count": 6,
   "id": "7cc92f6b-7f78-4cb1-b7e3-1174377b9ca3",
   "metadata": {},
   "outputs": [
    {
     "data": {
      "text/plain": [
       "[7182359, 7182359]"
      ]
     },
     "execution_count": 6,
     "metadata": {},
     "output_type": "execute_result"
    }
   ],
   "source": [
    "[len(connections), len(df_cluster)]"
   ]
  },
  {
   "cell_type": "code",
   "execution_count": 7,
   "id": "1a191951-97d9-42f1-9d55-d3c84435e4c7",
   "metadata": {},
   "outputs": [],
   "source": [
    "walking_speed = 1 # m/s\n",
    "df_cluster['walking_time'] = df_cluster['dist'] / walking_speed\n",
    "df_cluster.query('walking_time < waiting_time', inplace = True)"
   ]
  },
  {
   "cell_type": "code",
   "execution_count": 8,
   "id": "61fd8c2c-d1dc-49f3-8824-3f1fb3c25e9f",
   "metadata": {},
   "outputs": [],
   "source": [
    "agg_cluster = df_cluster.groupby('cluster').size().reset_index(name = 'conn_count')"
   ]
  },
  {
   "cell_type": "code",
   "execution_count": 9,
   "id": "c2c45909-8630-4861-8e1d-83665512be98",
   "metadata": {},
   "outputs": [
    {
     "data": {
      "text/html": [
       "<div>\n",
       "<style scoped>\n",
       "    .dataframe tbody tr th:only-of-type {\n",
       "        vertical-align: middle;\n",
       "    }\n",
       "\n",
       "    .dataframe tbody tr th {\n",
       "        vertical-align: top;\n",
       "    }\n",
       "\n",
       "    .dataframe thead th {\n",
       "        text-align: right;\n",
       "    }\n",
       "</style>\n",
       "<table border=\"1\" class=\"dataframe\">\n",
       "  <thead>\n",
       "    <tr style=\"text-align: right;\">\n",
       "      <th></th>\n",
       "      <th>count</th>\n",
       "      <th>mean</th>\n",
       "      <th>std</th>\n",
       "      <th>min</th>\n",
       "      <th>25%</th>\n",
       "      <th>50%</th>\n",
       "      <th>75%</th>\n",
       "      <th>max</th>\n",
       "    </tr>\n",
       "  </thead>\n",
       "  <tbody>\n",
       "    <tr>\n",
       "      <th>conn_count</th>\n",
       "      <td>109.0</td>\n",
       "      <td>47959.449541</td>\n",
       "      <td>71079.785419</td>\n",
       "      <td>18.0</td>\n",
       "      <td>9766.0</td>\n",
       "      <td>26258.0</td>\n",
       "      <td>48270.0</td>\n",
       "      <td>506281.0</td>\n",
       "    </tr>\n",
       "  </tbody>\n",
       "</table>\n",
       "</div>"
      ],
      "text/plain": [
       "            count          mean           std   min     25%      50%      75%  \\\n",
       "conn_count  109.0  47959.449541  71079.785419  18.0  9766.0  26258.0  48270.0   \n",
       "\n",
       "                 max  \n",
       "conn_count  506281.0  "
      ]
     },
     "execution_count": 9,
     "metadata": {},
     "output_type": "execute_result"
    }
   ],
   "source": [
    "agg_cluster.conn_count.describe().to_frame().transpose()"
   ]
  },
  {
   "cell_type": "code",
   "execution_count": 10,
   "id": "4d72ea3f-37d6-40ab-9762-8a9e28393436",
   "metadata": {},
   "outputs": [],
   "source": [
    "mean, std, q1, median, q3 = agg_cluster.conn_count.mean(), agg_cluster.conn_count.std(), agg_cluster.conn_count.quantile(0.25), agg_cluster.conn_count.quantile(0.5), agg_cluster.conn_count.quantile(0.75)\n",
    "agg_cluster['mean'] = mean\n",
    "agg_cluster['std'] = std\n",
    "agg_cluster['q1'] = q1\n",
    "agg_cluster['median'] = median\n",
    "agg_cluster['q3'] = q3\n",
    "multiplier = 1.5\n",
    "conditions = [\n",
    "    (agg_cluster.conn_count <= agg_cluster['q1']),\n",
    "    ((agg_cluster.conn_count > agg_cluster['q1']) & (agg_cluster.conn_count <= agg_cluster['q3'] + multiplier * (agg_cluster['q3'] - agg_cluster['q1']))),\n",
    "    (agg_cluster.conn_count > agg_cluster['q3'] + multiplier * (agg_cluster['q3'] - agg_cluster['q1']))]    \n",
    "density_choices = ['Low', 'Moderate', 'High']\n",
    "agg_cluster['density'] = np.select(conditions, density_choices, default = 'N/A')"
   ]
  },
  {
   "cell_type": "code",
   "execution_count": 12,
   "id": "545ddc1b-5bd5-4da3-b894-37b97791d083",
   "metadata": {
    "scrolled": true
   },
   "outputs": [
    {
     "data": {
      "image/png": "[encoded data removed]",
      "text/plain": [
       "<Figure size 1400x700 with 2 Axes>"
      ]
     },
     "metadata": {},
     "output_type": "display_data"
    }
   ],
   "source": [
    "# Calculate the counts of each density category\n",
    "density_counts = agg_cluster['density'].value_counts()\n",
    "density_counts = density_counts.reindex(['High', 'Moderate', 'Low'])\n",
    "\n",
    "# Set colors for the pie chart using 'Set2' color palette\n",
    "colors = sns.color_palette(\"Set2\", len(density_counts))\n",
    "\n",
    "# Create a figure with two subplots side by side\n",
    "fig, axes = plt.subplots(1, 2, figsize=(14, 7))\n",
    "\n",
    "# Boxplot -------------------------------------------------------\n",
    "\n",
    "# Set seaborn style\n",
    "sns.set_style(\"whitegrid\", {'grid.linestyle': '--'})\n",
    "\n",
    "# Create boxplot\n",
    "axes[0] = sns.boxplot(x=agg_cluster.density, y=agg_cluster.conn_count, hue=agg_cluster.density, order=density_choices, palette=sns.color_palette(\"Set2\", 3), ax=axes[0])\n",
    "\n",
    "# Format boxplot\n",
    "axes[0].tick_params(labelsize=15)\n",
    "axes[0].set_xlabel(\"Density Categories\", fontsize=17)\n",
    "axes[0].set_ylabel(\"Total Connections by Cluster\", fontsize=17)\n",
    "plt.xticks(rotation=45, ha='right', rotation_mode='anchor')\n",
    "\n",
    "# Pie chart -------------------------------------------------------\n",
    "\n",
    "# Create pie chart\n",
    "wedges, texts, autotexts = axes[1].pie(density_counts, labels=density_counts.index, autopct='%1.1f%%', startangle=90, colors=colors, textprops={'fontsize': 15})\n",
    "\n",
    "# Add absolute counts to the pie chart\n",
    "for i, autotext in enumerate(autotexts):\n",
    "    autotext.set_text(f\"{autotext.get_text()}\\n{density_counts.iloc[i]}\")\n",
    "\n",
    "# Add title and legend\n",
    "#axes[1].legend(title=\"Density\", loc=\"best\", bbox_to_anchor=(1, 0.5))\n",
    "\n",
    "# Adjust spacing\n",
    "plt.subplots_adjust(left=0.1, right=0.95, bottom=0.35, top=0.95, wspace=0.4)\n",
    "\n",
    "# Save the figure\n",
    "plt.savefig('combined_plots.png', format='png', dpi=300)\n",
    "\n",
    "plt.show()"
   ]
  },
  {
   "cell_type": "code",
   "execution_count": 15,
   "id": "17c57a72-0ec4-4a95-a26b-bd1156a52bd3",
   "metadata": {},
   "outputs": [
    {
     "data": {
      "text/plain": [
       "Index(['dummy_id', 'name_norm', 'type_norm', 'latitude', 'longitude'], dtype='object')"
      ]
     },
     "execution_count": 15,
     "metadata": {},
     "output_type": "execute_result"
    }
   ],
   "source": [
    "dim_bs.columns"
   ]
  },
  {
   "cell_type": "code",
   "execution_count": 20,
   "id": "2f552735-0cfa-4375-b777-c5fdd7069d9f",
   "metadata": {},
   "outputs": [],
   "source": [
    "map_cluster = pd.merge(\n",
    "    df_cluster, \n",
    "    dim_bs[['dummy_id', 'latitude', 'longitude', 'name_norm', 'type_norm']], \n",
    "    left_on = 'dummy_id_u', right_on = 'dummy_id'\n",
    ").merge( \n",
    "    dim_bs[['dummy_id', 'latitude', 'longitude', 'name_norm', 'type_norm']], \n",
    "    left_on = 'dummy_id_v', right_on = 'dummy_id'\n",
    ")"
   ]
  },
  {
   "cell_type": "code",
   "execution_count": 31,
   "id": "0d230676-08b2-4065-a9c4-32b7fe360076",
   "metadata": {},
   "outputs": [
    {
     "data": {
      "text/plain": [
       "Index(['dummy_id_u', 'dummy_id_v', 'cluster', 'latitude_u', 'longitude_u',\n",
       "       'name_norm_u', 'type_norm_u', 'latitude_v', 'longitude_v',\n",
       "       'name_norm_v', 'type_norm_v'],\n",
       "      dtype='object')"
      ]
     },
     "execution_count": 31,
     "metadata": {},
     "output_type": "execute_result"
    }
   ],
   "source": [
    "map_cluster.columns"
   ]
  },
  {
   "cell_type": "code",
   "execution_count": 32,
   "id": "9e3aba64-d04e-46c7-9b57-6f50994417a1",
   "metadata": {},
   "outputs": [],
   "source": [
    "map_cluster = pd.merge(\n",
    "    df_cluster[['dummy_id_u', 'dummy_id_v', 'cluster']].drop_duplicates(), \n",
    "    dim_bs[['dummy_id', 'latitude', 'longitude', 'name_norm', 'type_norm']], \n",
    "    left_on = 'dummy_id_u', right_on = 'dummy_id'\n",
    ").merge( \n",
    "    dim_bs[['dummy_id', 'latitude', 'longitude', 'name_norm', 'type_norm']], \n",
    "    left_on = 'dummy_id_v', right_on = 'dummy_id'\n",
    ").rename(\n",
    "    columns = {\n",
    "        'latitude_x': 'latitude_u', \n",
    "        'longitude_x': 'longitude_u', \n",
    "        'name_norm_x': 'name_norm_u', \n",
    "        'type_norm_x': 'type_norm_u',\n",
    "        'latitude_y': 'latitude_v', \n",
    "        'longitude_y': 'longitude_v', \n",
    "        'name_norm_y': 'name_norm_v', \n",
    "        'type_norm_y': 'type_norm_v'        \n",
    "    }\n",
    ").drop(\n",
    "    columns = ['dummy_id_x', 'dummy_id_y'],\n",
    "    axis = 1\n",
    ").merge(\n",
    "    agg_cluster[['cluster', 'density']]\n",
    ")"
   ]
  },
  {
   "cell_type": "code",
   "execution_count": 40,
   "id": "bb2528ef-479e-4afa-8708-3374ab7d98cf",
   "metadata": {},
   "outputs": [
    {
     "data": {
      "text/plain": [
       "False"
      ]
     },
     "execution_count": 40,
     "metadata": {},
     "output_type": "execute_result"
    }
   ],
   "source": [
    "mapa = folium.Map(\n",
    "    location = [-25.4284, -49.2733],\n",
    "    tiles = \"OpenStreetMap\",\n",
    "    zoom_start = 12\n",
    ")\n",
    "\n",
    "bus_stop_clustered = pd.merge(\n",
    "    clusters,\n",
    "    dim_bs\n",
    ")\n",
    "\n",
    "markers = []\n",
    "for density in density_choices:\n",
    "\n",
    "    feature_group = folium.FeatureGroup(density)\n",
    "    cluster_numbers = folium.FeatureGroup(f'Cluster Numbers ({density})')\n",
    "    \n",
    "    centers = []\n",
    "    points = []    \n",
    "    idx = list(agg_cluster.query(f\"density == '{density}'\").cluster.drop_duplicates())\n",
    "    for index, conn in map_cluster.query(f\"cluster == {idx}\").filter(['latitude_u', 'longitude_u', 'name_norm_u', 'type_norm_u', 'latitude_v',\n",
    "           'longitude_v', 'name_norm_v', 'type_norm_v', 'cluster']).drop_duplicates().iterrows():\n",
    "        \n",
    "        u = [conn['latitude_u'], conn['longitude_u']]\n",
    "        v = [conn['latitude_v'], conn['longitude_v']]\n",
    "        line = folium.PolyLine([u, v], color = 'red', weight = 1.0).add_to(feature_group)\n",
    "        centre = bus_stop_clustered.query(f\"centre == 1 and cluster == {conn['cluster']}\").filter(['latitude', 'longitude']).values.tolist()[0]\n",
    "        if centre not in centers:\n",
    "            folium.Circle(centre, popup = conn[\"cluster\"],\n",
    "                radius = 600, color = 'blue', fill_color = 'blue', fill = True, opacity = 1, fill_opacity = 0.1, weight = 1.0).add_to(feature_group)\n",
    "            folium.map.Marker(\n",
    "                centre,\n",
    "                icon=folium.DivIcon(\n",
    "                    icon_size=(150,36),\n",
    "                    icon_anchor=(0,0),\n",
    "                    html='<div style=\"font-size: 12pt; font-weight: bold; color: black\">%s</div>' % conn['cluster'],\n",
    "                    )\n",
    "                ).add_to(cluster_numbers)            \n",
    "            centers.append(centre)\n",
    "            \n",
    "        if u not in points:\n",
    "            markers.append(folium.Circle(u, popup = conn[\"name_norm_u\"],\n",
    "                radius = 3, color = 'black', fill_color = 'black', fill = True, opacity = 1, fill_opacity = 1, weight = 1.0).add_to(feature_group))\n",
    "            points.append(u)\n",
    "            \n",
    "        if v not in points:\n",
    "            markers.append(folium.Circle(v, popup = conn[\"name_norm_v\"],\n",
    "                radius = 3, color = 'black', fill_color = 'black', fill = True, opacity = 1, fill_opacity = 1, weight = 1.0).add_to(feature_group))\n",
    "            points.append(v)\n",
    "            \n",
    "        mapa.add_child(feature_group)\n",
    "        mapa.add_child(cluster_numbers)\n",
    "\n",
    "folium.GeoJson(gpd.read_file('maps/PR_Municipios_2022.shp').query(\"NM_MUN == 'Curitiba'\"),\n",
    "             style_function=lambda x: {'color': 'black', 'fillOpacity': 0, 'weight': 1.5}).add_to(mapa)        \n",
    "        \n",
    "mapa.add_child(folium.LayerControl())\n",
    "mapa.keep_in_front(*markers)\n",
    "plugins.Fullscreen(                                                         \n",
    "        position                = \"topright\",                                   \n",
    "        title                   = \"Open full-screen map\",                       \n",
    "        title_cancel            = \"Close full-screen map\",                      \n",
    "        force_separate_button   = True,                                         \n",
    "    ).add_to(mapa) \n",
    "\n",
    "mapa.save(outfile = \"density_map.html\")\n",
    "web.open_new_tab(\"density_map.html\")"
   ]
  },
  {
   "cell_type": "code",
   "execution_count": 38,
   "id": "8cde16a8-a77a-440c-8795-285e85bafd35",
   "metadata": {},
   "outputs": [
    {
     "data": {
      "text/html": [
       "<div>\n",
       "<style scoped>\n",
       "    .dataframe tbody tr th:only-of-type {\n",
       "        vertical-align: middle;\n",
       "    }\n",
       "\n",
       "    .dataframe tbody tr th {\n",
       "        vertical-align: top;\n",
       "    }\n",
       "\n",
       "    .dataframe thead th {\n",
       "        text-align: right;\n",
       "    }\n",
       "</style>\n",
       "<table border=\"1\" class=\"dataframe\">\n",
       "  <thead>\n",
       "    <tr style=\"text-align: right;\">\n",
       "      <th></th>\n",
       "      <th>dummy_id</th>\n",
       "      <th>centre</th>\n",
       "      <th>cluster</th>\n",
       "    </tr>\n",
       "  </thead>\n",
       "  <tbody>\n",
       "    <tr>\n",
       "      <th>0</th>\n",
       "      <td>108123.0</td>\n",
       "      <td>0</td>\n",
       "      <td>0</td>\n",
       "    </tr>\n",
       "    <tr>\n",
       "      <th>1</th>\n",
       "      <td>108124.0</td>\n",
       "      <td>0</td>\n",
       "      <td>0</td>\n",
       "    </tr>\n",
       "    <tr>\n",
       "      <th>2</th>\n",
       "      <td>150270.0</td>\n",
       "      <td>0</td>\n",
       "      <td>0</td>\n",
       "    </tr>\n",
       "    <tr>\n",
       "      <th>3</th>\n",
       "      <td>150271.0</td>\n",
       "      <td>0</td>\n",
       "      <td>0</td>\n",
       "    </tr>\n",
       "    <tr>\n",
       "      <th>4</th>\n",
       "      <td>150272.0</td>\n",
       "      <td>0</td>\n",
       "      <td>0</td>\n",
       "    </tr>\n",
       "  </tbody>\n",
       "</table>\n",
       "</div>"
      ],
      "text/plain": [
       "   dummy_id  centre  cluster\n",
       "0  108123.0       0        0\n",
       "1  108124.0       0        0\n",
       "2  150270.0       0        0\n",
       "3  150271.0       0        0\n",
       "4  150272.0       0        0"
      ]
     },
     "execution_count": 38,
     "metadata": {},
     "output_type": "execute_result"
    }
   ],
   "source": [
    "clusters.head()"
   ]
  },
  {
   "cell_type": "code",
   "execution_count": null,
   "id": "6cc4f686-54c2-4af5-8b7b-0fefdd162594",
   "metadata": {},
   "outputs": [],
   "source": []
  }
 ],
 "metadata": {
  "kernelspec": {
   "display_name": "Python 3 (ipykernel)",
   "language": "python",
   "name": "python3"
  },
  "language_info": {
   "codemirror_mode": {
    "name": "ipython",
    "version": 3
   },
   "file_extension": ".py",
   "mimetype": "text/x-python",
   "name": "python",
   "nbconvert_exporter": "python",
   "pygments_lexer": "ipython3",
   "version": "3.11.9"
  }
 },
 "nbformat": 4,
 "nbformat_minor": 5
}
