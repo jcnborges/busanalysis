{
 "cells": [
  {
   "cell_type": "code",
   "execution_count": 1,
   "id": "a7e06da5-46a7-43e6-9511-1bb2997da84f",
   "metadata": {},
   "outputs": [],
   "source": [
    "import os\n",
    "import mysql.connector as connection\n",
    "import pandas as pd\n",
    "import numpy as np\n",
    "import seaborn as sns\n",
    "import matplotlib.colors as mcolors\n",
    "import matplotlib.cm as cm\n",
    "import simplekml\n",
    "from sqlalchemy import create_engine\n",
    "from sqlalchemy import text as sql_text"
   ]
  },
  {
   "cell_type": "code",
   "execution_count": 2,
   "id": "f552bb6e-33f8-4c35-9efc-c38a3786fb36",
   "metadata": {},
   "outputs": [],
   "source": [
    "# Access environment variables\n",
    "host = os.environ.get(\"MYSQL_HOST\", \"mysql\")  # Default to \"mysql\" if not set\n",
    "port = int(os.environ.get(\"MYSQL_PORT\", 3306)) # Default to 3306\n",
    "user = os.environ.get(\"MYSQL_USER\", \"root\")\n",
    "password = os.environ.get(\"MYSQL_PASSWORD\") \n",
    "database = os.environ.get(\"MYSQL_DATABASE\")"
   ]
  },
  {
   "cell_type": "code",
   "execution_count": 13,
   "id": "40b40580-5b10-4d36-bfeb-98036797a70d",
   "metadata": {},
   "outputs": [],
   "source": [
    "start_date = '2022-07-11'\n",
    "end_date = '2022-07-11'\n",
    "lines = ['020', '022', '023', '203', '303', '386', '654', '829']\n",
    "#lines = ['020', '303', '829', '050']\n",
    "#lines = ['829']"
   ]
  },
  {
   "cell_type": "code",
   "execution_count": 14,
   "id": "b9c25830-cf2d-4be3-a34d-808c4054b609",
   "metadata": {},
   "outputs": [],
   "source": [
    "engine_uri = f\"mysql+mysqlconnector://{user}:{password}@{host}:{port}/{database}\"\n",
    "connection = create_engine(engine_uri)\n",
    "\n",
    "query_events = f\"\"\"\n",
    "    SELECT * FROM vw_event\n",
    "    WHERE base_date BETWEEN '{start_date}' AND '{end_date}' \n",
    "        AND line_code IN {str(lines).replace(\"[\", \"(\").replace(\"]\", \")\")}\n",
    "\"\"\"\n",
    "\n",
    "query_itineraries = f\"\"\"\n",
    "    SELECT * FROM vw_itinerary\n",
    "    WHERE base_date BETWEEN '{start_date}' AND '{end_date}' \n",
    "        AND line_code IN {str(lines).replace(\"[\", \"(\").replace(\"]\", \")\")}\n",
    "\"\"\"\n",
    "events = pd.read_sql_query(sql_text(query_events), connection.connect())\n",
    "itineraries = pd.read_sql_query(sql_text(query_itineraries), connection.connect())"
   ]
  },
  {
   "cell_type": "code",
   "execution_count": 15,
   "id": "e96c6574-0b30-4f9e-92fc-ee0c7e414f61",
   "metadata": {},
   "outputs": [],
   "source": [
    "tracks = events[['line_code', 'vehicle', 'itinerary_id', 'legacy_id', 'event_timestamp', 'latitude', 'longitude', 'base_date']].drop_duplicates()\n",
    "tracks['base_date'] = tracks.base_date.astype(str)"
   ]
  },
  {
   "cell_type": "code",
   "execution_count": 30,
   "id": "3861dd01-029f-446d-8db4-44263edb4bce",
   "metadata": {},
   "outputs": [
    {
     "name": "stdout",
     "output_type": "stream",
     "text": [
      "KML file 'gps_track_simplekml.kml' created successfully.\n"
     ]
    }
   ],
   "source": [
    "# Efficient sorting of tracks\n",
    "tracks = tracks.sort_values(['line_code', 'itinerary_id', 'vehicle', 'event_timestamp'])\n",
    "\n",
    "# Calculate next_event_timestamp efficiently\n",
    "tracks['next_event_timestamp'] = tracks.groupby(['line_code', 'itinerary_id', 'vehicle'])['event_timestamp'].shift(-1)\n",
    "tracks['next_event_timestamp'].fillna(tracks['event_timestamp'], inplace=True)\n",
    "\n",
    "kml = simplekml.Kml()\n",
    "\n",
    "# Efficient color mapping.  Using a dict is more efficient for lookups than repeatedly searching an array.\n",
    "cmap = sns.color_palette(\"bright\", len(tracks['line_code'].unique()))\n",
    "line_code_colors = dict(zip(tracks['line_code'].unique(), cmap))\n",
    "line_itinerary_count = tracks.groupby('line_code').itinerary_id.nunique().reset_index()\n",
    "line_itinerary_count = dict(zip(line_itinerary_count.line_code, line_itinerary_count.itinerary_id))\n",
    "\n",
    "for line_code, line_group in tracks.groupby('line_code'):\n",
    "    line_folder = kml.newfolder(name=f'Line Code: {line_code}')\n",
    "    # Correct color conversion:\n",
    "    line_color = simplekml.Color.hex(mcolors.to_hex(line_code_colors[line_code])[1:]) # simplekml's method\n",
    "\n",
    "    for itinerary, itinerary_group in line_group.groupby('itinerary_id'):\n",
    "        itinerary_folder = line_folder.newfolder(name=f'Itinerary: {itinerary}')\n",
    "\n",
    "        itinerary_data = itineraries.query(f\"line_code == '{line_code}' and itinerary_id == {itinerary}\").sort_values('seq')\n",
    "        coords = list(zip(itinerary_data['longitude'], itinerary_data['latitude'], [0] * len(itinerary_data)))\n",
    "        if (line_itinerary_count[line_code] != 2):\n",
    "            coords.append(coords[0])\n",
    "\n",
    "        ls = itinerary_folder.newlinestring(name='Route', coords=coords)\n",
    "        ls.style.linestyle.width = 5\n",
    "        ls.style.linestyle.color = line_color\n",
    "\n",
    "        for vehicle, vehicle_group in itinerary_group.groupby('vehicle'):\n",
    "            vehicle_folder = itinerary_folder.newfolder(name=f'Vehicle: {vehicle}')\n",
    "            for index, row in vehicle_group.iterrows():\n",
    "                pnt = vehicle_folder.newpoint(name=row['vehicle'], coords=[(row['longitude'], row['latitude'], 0)])\n",
    "                pnt.style.iconstyle.icon.href = 'http://maps.google.com/mapfiles/kml/shapes/bus.png'\n",
    "                pnt.style.iconstyle.scale = 1.2\n",
    "                pnt.style.iconstyle.color = line_color\n",
    "                pnt.timespan.begin = row['event_timestamp'].isoformat() + 'Z'\n",
    "                pnt.timespan.end = row['next_event_timestamp'].isoformat() + 'Z'\n",
    "\n",
    "kml.save('gps_track_simplekml.kml')\n",
    "print(\"KML file 'gps_track_simplekml.kml' created successfully.\")"
   ]
  }
 ],
 "metadata": {
  "kernelspec": {
   "display_name": "Python 3 (ipykernel)",
   "language": "python",
   "name": "python3"
  },
  "language_info": {
   "codemirror_mode": {
    "name": "ipython",
    "version": 3
   },
   "file_extension": ".py",
   "mimetype": "text/x-python",
   "name": "python",
   "nbconvert_exporter": "python",
   "pygments_lexer": "ipython3",
   "version": "3.11.9"
  }
 },
 "nbformat": 4,
 "nbformat_minor": 5
}
