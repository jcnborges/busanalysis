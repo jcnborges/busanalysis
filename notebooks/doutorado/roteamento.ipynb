{
 "cells": [
  {
   "cell_type": "code",
   "execution_count": 1,
   "id": "a7e06da5-46a7-43e6-9511-1bb2997da84f",
   "metadata": {},
   "outputs": [],
   "source": [
    "import os\n",
    "import mysql.connector as connection\n",
    "import pandas as pd\n",
    "from sqlalchemy import create_engine\n",
    "from sqlalchemy import text as sql_text"
   ]
  },
  {
   "cell_type": "code",
   "execution_count": 2,
   "id": "f552bb6e-33f8-4c35-9efc-c38a3786fb36",
   "metadata": {},
   "outputs": [],
   "source": [
    "# Access environment variables\n",
    "host = os.environ.get(\"MYSQL_HOST\", \"mysql\")  # Default to \"mysql\" if not set\n",
    "port = int(os.environ.get(\"MYSQL_PORT\", 3306)) # Default to 3306\n",
    "user = os.environ.get(\"MYSQL_USER\", \"root\")\n",
    "password = os.environ.get(\"MYSQL_PASSWORD\") \n",
    "database = os.environ.get(\"MYSQL_DATABASE\")"
   ]
  },
  {
   "cell_type": "code",
   "execution_count": 3,
   "id": "40b40580-5b10-4d36-bfeb-98036797a70d",
   "metadata": {},
   "outputs": [],
   "source": [
    "start_date = '2022-07-11'\n",
    "end_date = '2022-07-15'\n",
    "lines = ['020', '303']"
   ]
  },
  {
   "cell_type": "code",
   "execution_count": 4,
   "id": "b9c25830-cf2d-4be3-a34d-808c4054b609",
   "metadata": {},
   "outputs": [],
   "source": [
    "engine_uri = f\"mysql+mysqlconnector://{user}:{password}@{host}:{port}/{database}\"\n",
    "connection = create_engine(engine_uri)\n",
    "\n",
    "query_events = f\"\"\"\n",
    "    SELECT * FROM vw_event\n",
    "    WHERE base_date BETWEEN '{start_date}' AND '{end_date}' \n",
    "        AND line_code IN {str(lines).replace(\"[\", \"(\").replace(\"]\", \")\")}\n",
    "\"\"\"\n",
    "events = pd.read_sql_query(sql_text(query_events), connection.connect())"
   ]
  },
  {
   "cell_type": "code",
   "execution_count": 6,
   "id": "9da00c31-2b51-4064-9a1a-ab24aed53bd3",
   "metadata": {},
   "outputs": [
    {
     "data": {
      "text/plain": [
       "line_code                  object\n",
       "line_name                  object\n",
       "vehicle                    object\n",
       "latitude                  float64\n",
       "longitude                 float64\n",
       "name                       object\n",
       "legacy_id                   int64\n",
       "type                       object\n",
       "seq                         int64\n",
       "itinerary_id                int64\n",
       "event_timestamp    datetime64[ns]\n",
       "base_date                  object\n",
       "dtype: object"
      ]
     },
     "execution_count": 6,
     "metadata": {},
     "output_type": "execute_result"
    }
   ],
   "source": [
    "events.dtypes"
   ]
  },
  {
   "cell_type": "code",
   "execution_count": null,
   "id": "e96c6574-0b30-4f9e-92fc-ee0c7e414f61",
   "metadata": {},
   "outputs": [],
   "source": []
  }
 ],
 "metadata": {
  "kernelspec": {
   "display_name": "Python 3 (ipykernel)",
   "language": "python",
   "name": "python3"
  },
  "language_info": {
   "codemirror_mode": {
    "name": "ipython",
    "version": 3
   },
   "file_extension": ".py",
   "mimetype": "text/x-python",
   "name": "python",
   "nbconvert_exporter": "python",
   "pygments_lexer": "ipython3",
   "version": "3.11.9"
  }
 },
 "nbformat": 4,
 "nbformat_minor": 5
}
