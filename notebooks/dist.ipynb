{
 "cells": [
  {
   "cell_type": "code",
   "execution_count": 75,
   "id": "b7dd1da9",
   "metadata": {},
   "outputs": [],
   "source": [
    "import googlemaps\n",
    "import pandas as pd"
   ]
  },
  {
   "cell_type": "code",
   "execution_count": 76,
   "id": "c64ffb5f",
   "metadata": {},
   "outputs": [],
   "source": [
    "gmaps = googlemaps.Client(key = 'xxx')"
   ]
  },
  {
   "cell_type": "code",
   "execution_count": 77,
   "id": "46e36e5f",
   "metadata": {},
   "outputs": [],
   "source": [
    "dist = pd.read_csv(\"dist.csv\")"
   ]
  },
  {
   "cell_type": "code",
   "execution_count": 78,
   "id": "60246c99",
   "metadata": {},
   "outputs": [],
   "source": [
    "for idx, row in dist.iterrows():\n",
    "    #Assign latitude and longitude as origin/departure points\n",
    "    origin = (row['lat0'], row['long0'])\n",
    "\n",
    "    #Assign latitude and longitude from the next row as the destination point\n",
    "    destination = (row['lat1'], row['long1'])\n",
    "\n",
    "    d = gmaps.distance_matrix(origin, destination, mode = 'driving')[\"rows\"][0][\"elements\"][0][\"distance\"][\"value\"]\n",
    "    dist.at[idx, 'dist'] = d"
   ]
  },
  {
   "cell_type": "code",
   "execution_count": 80,
   "id": "93e2baa9",
   "metadata": {},
   "outputs": [],
   "source": [
    "dist.to_csv(\"dist_google.csv\", index = False)"
   ]
  },
  {
   "cell_type": "code",
   "execution_count": null,
   "id": "38b05873",
   "metadata": {},
   "outputs": [],
   "source": []
  }
 ],
 "metadata": {
  "kernelspec": {
   "display_name": "Python 3 (ipykernel)",
   "language": "python",
   "name": "python3"
  },
  "language_info": {
   "codemirror_mode": {
    "name": "ipython",
    "version": 3
   },
   "file_extension": ".py",
   "mimetype": "text/x-python",
   "name": "python",
   "nbconvert_exporter": "python",
   "pygments_lexer": "ipython3",
   "version": "3.8.10"
  }
 },
 "nbformat": 4,
 "nbformat_minor": 5
}
